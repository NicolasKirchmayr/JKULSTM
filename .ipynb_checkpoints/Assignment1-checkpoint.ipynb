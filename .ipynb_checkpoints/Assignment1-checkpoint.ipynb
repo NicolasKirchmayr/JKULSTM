{
 "cells": [
  {
   "cell_type": "markdown",
   "metadata": {},
   "source": [
    "<h1 style=\"color:rgb(0,120,170)\">Assignment 1: Numpy RNN</h1>\n",
    "\n",
    "Author: Frederik Kratzert\n",
    "\n",
    "**Deadline: 03.11.2019 23:59**\n",
    "\n",
    "\n",
    "In the first assignment, you have to implement the recurrent neural network (RNN) using only NumPy functionality. Concretely, you have to implement the forward and backward pass through the RNN and validate the implementation doing numerical gradient checking. Although you won't most-likely use a self-implemented RNN in real-world applications, this is an excellent task to test and train your understanding of recurrent neural networks in general.\n",
    "\n",
    "The notebook contains the core skelleton of everything you have to implement and you will find comments in the code that point you to the exact locations, where you should implement your code. Furthermore, we added type annotations and documentations, where possible, to help you figuring out what the expected inputs are.  \n",
    "**Note:** You are not allowed to use any other package then the packages imported below. Using other packages will be considered cheating and result in a negativ assignment.\n",
    "\n",
    "When successfully finishing this assignment you will learn:\n",
    "- how to implement the forward and backward to the RNN\n",
    "- how to use gradient checking to verify your implementation\n",
    "\n",
    "\n",
    "Copyright statement:  \n",
    "This  material,  no  matter  whether  in  printed  or  electronic  form,  may  be  used  for  personal  and\n",
    "non-commercial educational use only.  Any reproduction of this manuscript, no matter whether as a whole or in\n",
    "parts, no matter whether in printed or in electronic form, requires explicit prior acceptance of the\n",
    "authors."
   ]
  },
  {
   "cell_type": "markdown",
   "metadata": {},
   "source": [
    "<h3 style=\"color:rgb(200,0,0)\">Please fill in</h3> \n",
    "\n",
    "Your Name: **Name**   \n",
    "Student number: **Number** "
   ]
  },
  {
   "cell_type": "code",
   "execution_count": 1,
   "metadata": {},
   "outputs": [],
   "source": [
    "from typing import Dict, Tuple\n",
    "\n",
    "import numpy as np"
   ]
  },
  {
   "cell_type": "markdown",
   "metadata": {},
   "source": [
    "<h2 style=\"color:rgb(0,120,170)\">Excercise 1: Implement Recurrent Neural Network (7pts)</h2>\n",
    "\n",
    "In this excercise you have to implement a recurrent neural network (RNN) in a sequence-to-one setting. That is, only the RNN output of the last time step $T$ is used to calculate the network prediction (see Equations below).\n",
    "\n",
    "Before you start coding note that the script does not contain bias units for notational convenience. In our program, however, we want to use bias units and have to train them using their correct gradients.  \n",
    "**Write down these gradients in the text box below.**"
   ]
  },
  {
   "cell_type": "markdown",
   "metadata": {},
   "source": [
    "$$\n",
    "\\frac{\\partial L}{\\partial \\boldsymbol{b}_s[t]} = \\dots \\\\\n",
    "\\frac{\\partial L}{\\partial \\boldsymbol{b}_y[t]} = \\dots \\\\\n",
    "$$"
   ]
  },
  {
   "cell_type": "markdown",
   "metadata": {},
   "source": [
    "For your implementation, use the provided class skelleton. The inline comments tell you, where and what you have to implement.  \n",
    "**Note two things**:   \n",
    "1) that the final network output should not have any activation function and  \n",
    "2) for this exercise ignore minibatches and implement your RNN to work on a single input sample.\n",
    "\n",
    "Equations of the sequence-to-one RNN:\n",
    "$$\n",
    "        \\boldsymbol{s}[t] = \\boldsymbol{W}^T \\boldsymbol{x}[t] + \\boldsymbol{R}^T \\boldsymbol{a}[t-1] + \\boldsymbol{b}_s\\\\\n",
    "        \\boldsymbol{a}[t] = \\mathrm{tanh}(\\boldsymbol{s}[t]) \\\\\n",
    "        \\boldsymbol{y} = \\boldsymbol{V}^T \\boldsymbol{a}[t=T] + \\boldsymbol{b}_y\n",
    "$$"
   ]
  },
  {
   "cell_type": "code",
   "execution_count": 2,
   "metadata": {},
   "outputs": [],
   "source": [
    "class RNN(object):\n",
    "    \"\"\"Numpy implementation of sequence-to-one recurrent neural network for regression tasks.\"\"\"\n",
    "    \n",
    "    def __init__(self, input_size: int, hidden_size: int, output_size: int):\n",
    "        \"\"\"Initialization \n",
    "\n",
    "        Parameters\n",
    "        ----------\n",
    "        input_size : int\n",
    "            Number of input features per time step\n",
    "        hidden_size : int\n",
    "            Number of hidden units in the RNN\n",
    "        output_size : int\n",
    "            Number of output units.\n",
    "        \"\"\"\n",
    "        super(RNN, self).__init__()\n",
    "        self.input_size = input_size\n",
    "        self.hidden_size = hidden_size\n",
    "        self.output_size = output_size\n",
    "\n",
    "        # create and initialize weights of the network\n",
    "        \n",
    "        #####################################################################\n",
    "        # TODO: Create NumPy arrays for each network parameter by replacing #\n",
    "        # the 'None' below. Initialize all matrices from the random uniform #\n",
    "        # distribution between (-0.2, 0.2) and all biases to zero vectors   #\n",
    "        #####################################################################\n",
    "        self.W = None\n",
    "        self.R = None\n",
    "        self.bs = None\n",
    "        self.V = None\n",
    "        self.by = None\n",
    "\n",
    "        # place holder to store intermediates for backprop\n",
    "        self.a = None\n",
    "        self.y_hat = None\n",
    "        self.grads = None\n",
    "        self.x = None\n",
    "\n",
    "    def forward(self, x: np.ndarray) -> np.ndarray:\n",
    "        \"\"\"Forward pass through the RNN.\n",
    "\n",
    "        Parameters\n",
    "        ----------\n",
    "        x : np.ndarray\n",
    "            Input sequence(s) of shape [sequence length, number of features]\n",
    "\n",
    "        Returns\n",
    "        -------\n",
    "        NumPy array containing the network prediction for the input sample.\n",
    "        \"\"\"\n",
    "        #####################################################################\n",
    "        # TODO: Implement the forward pass through the ŔNN.The              #\n",
    "        # specification of the input and output is given in the doc-string  #\n",
    "        #                                                                   #  \n",
    "        # Hint: you have to store certain intermediate values that you need #\n",
    "        # during the backward pass. Look at the __init__() function to see  #\n",
    "        # which.                                                            # \n",
    "        #                                                                   #\n",
    "        #####################################################################\n",
    "        raise NotImplementedError\n",
    "\n",
    "    def backward(self, d_loss: np.ndarray) -> Dict:\n",
    "        \"\"\"Calculate the backward pass through the RNN.\n",
    "        \n",
    "        Parameters\n",
    "        ----------\n",
    "        d_loss : np.ndarray\n",
    "            The gradient of the loss w.r.t the network output in the shape [output_size,]\n",
    "\n",
    "        Returns\n",
    "        -------\n",
    "        Dictionary containing the gradients for each network weight as key-value pair.\n",
    "        \"\"\"\n",
    "        #####################################################################\n",
    "        # TODO: Implement the backward pass through the RNN. The            #\n",
    "        # specification of the input and output is given in the doc-string  #\n",
    "        #                                                                   #\n",
    "        # Hint: You have to store gradients as class attribute which are    #\n",
    "        # needed in the .update() function                                  #\n",
    "        #####################################################################\n",
    "        raise NotImplementedError\n",
    "        \n",
    "    def update(self, lr: float):\n",
    "        \"\"\"Update the network parameter.\n",
    "\n",
    "        Parameters\n",
    "        ----------\n",
    "        lr : float\n",
    "            Learning rate used for the weight update\n",
    "        \"\"\"\n",
    "        if not self.grads:\n",
    "            raise RuntimeError(\"You have to call the .backward() function first\")\n",
    "            \n",
    "        #####################################################################\n",
    "        # TODO: Implement the parameter update using the gradients of the   #\n",
    "        # backward pass.                                                    # \n",
    "        #                                                                   #\n",
    "        # Hint: For certain network parameters you have gradients from each # \n",
    "        # time step. Those gradients over time have to be aggregated.       #  \n",
    "        #####################################################################\n",
    "\n",
    "        # reset internal class attributes\n",
    "        self.grads = {}\n",
    "        self.y_hat, self.a = None, None\n",
    "        \n",
    "    def get_weights(self) -> Dict:\n",
    "        \"\"\"Return dictionary containing the weight matrices\n",
    "        \n",
    "        Returns\n",
    "        -------\n",
    "        Dictionary containing the network weights as key-value pairs.\n",
    "        \"\"\"\n",
    "        return {'W': self.W, 'R': self.R, 'V': self.V, 'bs': self.bs, 'by': self.by}\n",
    "    \n",
    "    def set_weights(self, weights: Dict):\n",
    "        \"\"\"Set the network weights.\n",
    "        \n",
    "        Parameters\n",
    "        ----------\n",
    "        weights : Dict\n",
    "            Dictionary containing one key-value pair for each network weight.\n",
    "        \"\"\"\n",
    "        if not all(name in weights.keys() for name in ['W', 'R', 'V']):\n",
    "            raise ValueError(\"Missing one of 'W', 'R', 'V' keys in the weight dictionary\")\n",
    "        self.W = weights[\"W\"]\n",
    "        self.R = weights[\"R\"]\n",
    "        self.V = weights[\"V\"]\n",
    "        self.bs = weights[\"bs\"]\n",
    "        self.by = weights[\"by\"]"
   ]
  },
  {
   "cell_type": "markdown",
   "metadata": {},
   "source": [
    "<h2 style=\"color:rgb(0,120,170)\">Excercise 2: Numerical gradient check (3pts)</h2>\n",
    "\n",
    "To validate your implementation, especially the backward pass, use the two-sided gradient approximation given by the equation below.\n",
    "\n",
    "$$\n",
    "\\frac{\\partial f}{\\partial w_i} \\approx \\frac{f(x, w_1,...w_i + \\epsilon,...w_n) - f(x, w_1,...w_i - \\epsilon,...w_n)}{2*\\epsilon}\n",
    "$$\n",
    "\n",
    "Once you calculate the numerical gradient approximation for each weight $w_i$ of the network, we calculate the norm between the numerical gradient and the analytical gradient and check that this difference is smaller than the treshold defined in the function.\n",
    "\n",
    "Again, make use of the function skeleton provided below."
   ]
  },
  {
   "cell_type": "code",
   "execution_count": 3,
   "metadata": {},
   "outputs": [],
   "source": [
    "def get_numerical_gradient(model: RNN, x: np.ndarray, eps: float=1e-7) -> Dict:\n",
    "    \"\"\"Implementation of the two-sided numerical gradient approximation\n",
    "    \n",
    "    Parameters\n",
    "    ----------\n",
    "    model : RNN\n",
    "        The RNN model object\n",
    "    x : np.ndarray\n",
    "        Input sequence(s) of shape [sequence length, number of features]\n",
    "    eps : float\n",
    "        The epsilon used for numerical gradient approximation\n",
    "        \n",
    "    Returns\n",
    "    -------\n",
    "    A dictionary containing the numerical gradients for each weight of the RNN. Make sure\n",
    "    to name the dictionary keys like the names of the RNN gradients dictionary (e.g. \n",
    "    'd_R' for the weight 'R')\n",
    "    \"\"\"\n",
    "    #########################################################################\n",
    "    # TODO: Implement the two-sided numerical gradient approximation.       #\n",
    "    # The specifications of the in- and output are defined in the docstring.#                                                  #\n",
    "    #########################################################################    \n",
    "    raise NotImplementedError\n",
    "\n",
    "\n",
    "def get_analytical_gradient(model: RNN, x: np.ndarray) -> Dict:\n",
    "    \"\"\"Helper function to get the analytical gradient.\n",
    "        \n",
    "    Parameters\n",
    "    ----------\n",
    "    model : RNN\n",
    "        The RNN model object\n",
    "    x : np.ndarray\n",
    "        Input sequence(s) of shape [sequence length, number of features]\n",
    "        \n",
    "    Returns\n",
    "    -------\n",
    "    A dictionary containing the analytical gradients for each weight of the RNN.\n",
    "    \"\"\"\n",
    "    #########################################################################\n",
    "    # TODO: This is only a helper function to extract the analytical        #\n",
    "    # gradient.                                                             #\n",
    "    # The specifications of the in- and output are defined in the docstring.#\n",
    "    #                                                                       #\n",
    "    # Hint: We don't need any loss function at this point. Set e(T) = 1,    #\n",
    "    #       suffices to check the gradient of the RNN backward pass.        #\n",
    "    #########################################################################   \n",
    "            \n",
    "    raise NotImplementedError\n",
    "\n",
    "            \n",
    "def gradient_check(model: RNN, x: np.ndarray, treshold: float = 1e-7):\n",
    "    \"\"\"Perform gradient checking.\n",
    "    \n",
    "    You don't have to do anything in this function.\n",
    "    \n",
    "    Parameters\n",
    "    ----------\n",
    "    model : RNN\n",
    "        The RNN model object\n",
    "    x : np.ndarray\n",
    "        Input sequence(s) of shape [sequence length, number of features]\n",
    "    eps : float\n",
    "        The epsilon used for numerical gradient approximation    \n",
    "    \"\"\"\n",
    "    numerical_grads = get_numerical_gradient(model, x)\n",
    "    analytical_grads = get_analytical_gradient(model, x)\n",
    "    \n",
    "    for key, num_grad in numerical_grads.items():\n",
    "        difference = np.linalg.norm(num_grad - analytical_grads[key])\n",
    "        if difference < treshold:\n",
    "            print(f\"Gradient check for {key} passed (difference {difference:.3e})\")\n",
    "        else:\n",
    "            print(f\"Gradient check for {key} failed (difference {difference:.3e})\")"
   ]
  },
  {
   "cell_type": "markdown",
   "metadata": {},
   "source": [
    "Now we use the `gradient_check` function to test your RNN implementation for two different scenarios, which are a single output neuron and multiple output neurons. You don't have to adapt the code below, simply execute the cell."
   ]
  },
  {
   "cell_type": "code",
   "execution_count": 4,
   "metadata": {},
   "outputs": [
    {
     "name": "stdout",
     "output_type": "stream",
     "text": [
      "Gradient check with a single output neuron:\n",
      "Gradient check for d_W passed (difference 1.848e-09)\n",
      "Gradient check for d_R passed (difference 2.901e-09)\n",
      "Gradient check for d_V passed (difference 6.652e-10)\n",
      "Gradient check for d_bs passed (difference 8.640e-10)\n",
      "Gradient check for d_by passed (difference 5.264e-10)\n",
      "\n",
      "Gradient check with multiple output neurons:\n",
      "Gradient check for d_W passed (difference 5.321e-09)\n",
      "Gradient check for d_R passed (difference 7.433e-09)\n",
      "Gradient check for d_V passed (difference 2.531e-09)\n",
      "Gradient check for d_bs passed (difference 2.170e-09)\n",
      "Gradient check for d_by passed (difference 9.797e-10)\n"
     ]
    }
   ],
   "source": [
    "print(\"Gradient check with a single output neuron:\")\n",
    "output_size = 1\n",
    "model = RNN(input_size=5, hidden_size=10, output_size=output_size)\n",
    "x = np.random.rand(5, 5)\n",
    "gradient_check(model, x)\n",
    "\n",
    "print(\"\\nGradient check with multiple output neurons:\")\n",
    "output_size = 5\n",
    "model = RNN(input_size=5, hidden_size=10, output_size=output_size)\n",
    "x = np.random.rand(5, 5)\n",
    "gradient_check(model, x)"
   ]
  },
  {
   "cell_type": "markdown",
   "metadata": {},
   "source": [
    "<h2 style=\"color:rgb(0,120,170)\">Compare the time for gradient computation</h2>\n",
    "Finally, use the code below to investigate the benefit of being able to calculate the exact analytical gradient."
   ]
  },
  {
   "cell_type": "code",
   "execution_count": 5,
   "metadata": {},
   "outputs": [
    {
     "name": "stdout",
     "output_type": "stream",
     "text": [
      "121 µs ± 1.04 µs per loop (mean ± std. dev. of 7 runs, 10000 loops each)\n"
     ]
    }
   ],
   "source": [
    "analytical_time = %timeit -o get_analytical_gradient(model, x)"
   ]
  },
  {
   "cell_type": "code",
   "execution_count": 6,
   "metadata": {},
   "outputs": [
    {
     "name": "stdout",
     "output_type": "stream",
     "text": [
      "18.6 ms ± 549 µs per loop (mean ± std. dev. of 7 runs, 10 loops each)\n"
     ]
    }
   ],
   "source": [
    "numerical_time = %timeit -o get_numerical_gradient(model, x)"
   ]
  },
  {
   "cell_type": "code",
   "execution_count": 7,
   "metadata": {},
   "outputs": [
    {
     "name": "stdout",
     "output_type": "stream",
     "text": [
      "The analytical gradient computation was 154 times faster\n"
     ]
    }
   ],
   "source": [
    "if analytical_time.average < numerical_time.average:\n",
    "    fraction = numerical_time.average / analytical_time.average\n",
    "    print(f\"The analytical gradient computation was {fraction:.0f} times faster\")\n",
    "else:\n",
    "    fraction = analytical_time.average / numerical_time.average\n",
    "    print(f\"The numerical gradient computation was {fraction:.0f} times faster\")"
   ]
  }
 ],
 "metadata": {
  "kernelspec": {
   "display_name": "Python 3",
   "language": "python",
   "name": "python3"
  },
  "language_info": {
   "codemirror_mode": {
    "name": "ipython",
    "version": 3
   },
   "file_extension": ".py",
   "mimetype": "text/x-python",
   "name": "python",
   "nbconvert_exporter": "python",
   "pygments_lexer": "ipython3",
   "version": "3.7.1"
  }
 },
 "nbformat": 4,
 "nbformat_minor": 2
}
